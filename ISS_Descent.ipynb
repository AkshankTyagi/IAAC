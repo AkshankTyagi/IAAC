{
 "cells": [
  {
   "cell_type": "code",
   "execution_count": 1,
   "metadata": {},
   "outputs": [],
   "source": [
    "min = [414.5, 415.7, 416.7, 415.7, 416.9, 417.0]\n",
    "max = [416.6, 417.8, 418.5, 418.8, 419.0, 420.0]\n",
    "dur = [21.5, 20, 14, 26.5, 19, 18]\n"
   ]
  },
  {
   "cell_type": "code",
   "execution_count": 2,
   "metadata": {},
   "outputs": [
    {
     "name": "stdout",
     "output_type": "stream",
     "text": [
      "[0.09767441860465222, 0.10500000000000113, 0.1285714285714294, 0.11698113207547256, 0.11052631578947487, 0.16666666666666666]\n"
     ]
    }
   ],
   "source": [
    "descent = [0]*6\n",
    "for i in range(6):\n",
    "    descent[i]= (max[i] - min[i])/dur[i]\n",
    "\n",
    "print (descent)"
   ]
  },
  {
   "cell_type": "code",
   "execution_count": 3,
   "metadata": {},
   "outputs": [
    {
     "name": "stdout",
     "output_type": "stream",
     "text": [
      "Rate of Descent= 0.11175065900820605\n"
     ]
    }
   ],
   "source": [
    "import numpy as np\n",
    "\n",
    "print('Rate of Descent=',np.mean(descent[:5]))"
   ]
  },
  {
   "cell_type": "code",
   "execution_count": 4,
   "metadata": {},
   "outputs": [
    {
     "name": "stdout",
     "output_type": "stream",
     "text": [
      "Time of Descent: 2830.3571428571427 days = 7.75440313111546 years\n"
     ]
    }
   ],
   "source": [
    "initial = 417.0\n",
    "final = 100\n",
    "rate_descent =0.112\n",
    "Time = (initial - final) /rate_descent\n",
    "print('Time of Descent:', Time, 'days =', Time/365, 'years')"
   ]
  }
 ],
 "metadata": {
  "kernelspec": {
   "display_name": "base",
   "language": "python",
   "name": "python3"
  },
  "language_info": {
   "codemirror_mode": {
    "name": "ipython",
    "version": 3
   },
   "file_extension": ".py",
   "mimetype": "text/x-python",
   "name": "python",
   "nbconvert_exporter": "python",
   "pygments_lexer": "ipython3",
   "version": "3.9.13"
  }
 },
 "nbformat": 4,
 "nbformat_minor": 2
}
